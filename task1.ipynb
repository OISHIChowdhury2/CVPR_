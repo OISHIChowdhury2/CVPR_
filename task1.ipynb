{
 "cells": [
  {
   "cell_type": "code",
   "execution_count": 1,
   "id": "748ea595",
   "metadata": {},
   "outputs": [],
   "source": [
    "import numpy as np\n",
    "import keras\n",
    "from keras.datasets import mnist\n",
    "from keras.models import Model\n",
    "from keras.layers import Dense, Input\n",
    "from keras.layers import Conv2D, MaxPooling2D, Dropout, Flatten\n",
    "from keras import backend as k\n"
   ]
  },
  {
   "cell_type": "code",
   "execution_count": 2,
   "id": "21558667",
   "metadata": {},
   "outputs": [],
   "source": [
    "(x_train, y_train), (x_test, y_test) = mnist.load_data()\n"
   ]
  },
  {
   "cell_type": "code",
   "execution_count": 3,
   "id": "421c38f8",
   "metadata": {},
   "outputs": [],
   "source": [
    "\n",
    "img_rows, img_cols=28, 28\n",
    "  \n",
    "if k.image_data_format() == 'channels_first': \n",
    "   x_train = x_train.reshape(x_train.shape[0], 1, img_rows, img_cols) \n",
    "   x_test = x_test.reshape(x_test.shape[0], 1, img_rows, img_cols) \n",
    "   inpx = (1, img_rows, img_cols) \n",
    "  \n",
    "else: \n",
    "   x_train = x_train.reshape(x_train.shape[0], img_rows, img_cols, 1) \n",
    "   x_test = x_test.reshape(x_test.shape[0], img_rows, img_cols, 1) \n",
    "   inpx = (img_rows, img_cols, 1) \n",
    "  \n",
    "x_train = x_train.astype('float32') \n",
    "x_test = x_test.astype('float32') \n",
    "x_train /= 255\n",
    "x_test /= 255"
   ]
  },
  {
   "cell_type": "code",
   "execution_count": 4,
   "id": "e5180a59",
   "metadata": {},
   "outputs": [],
   "source": [
    "y_train = keras.utils.to_categorical(y_train)\n",
    "y_test = keras.utils.to_categorical(y_test)\n"
   ]
  },
  {
   "cell_type": "code",
   "execution_count": 5,
   "id": "1fcecd17",
   "metadata": {},
   "outputs": [],
   "source": [
    "inpx = Input(shape=inpx)\n",
    "layer1 = Conv2D(32, kernel_size=(3, 3), activation='relu')(inpx)\n",
    "layer2 = Conv2D(64, (3, 3), activation='relu')(layer1)\n",
    "layer3 = MaxPooling2D(pool_size=(3, 3))(layer2)\n",
    "layer4 = Dropout(0.5)(layer3)\n",
    "layer5 = Flatten()(layer4)\n",
    "layer6 = Dense(250, activation='sigmoid')(layer5)\n",
    "layer7 = Dense(10, activation='softmax')(layer6)\n"
   ]
  },
  {
   "cell_type": "code",
   "execution_count": 6,
   "id": "44874c3c",
   "metadata": {},
   "outputs": [
    {
     "name": "stdout",
     "output_type": "stream",
     "text": [
      "Epoch 1/12\n",
      "120/120 [==============================] - 72s 597ms/step - loss: 2.4651 - accuracy: 0.1124\n",
      "Epoch 2/12\n",
      "120/120 [==============================] - 73s 607ms/step - loss: 2.4480 - accuracy: 0.1124\n",
      "Epoch 3/12\n",
      "120/120 [==============================] - 74s 614ms/step - loss: 2.4312 - accuracy: 0.1124\n",
      "Epoch 4/12\n",
      "120/120 [==============================] - 73s 612ms/step - loss: 2.4144 - accuracy: 0.1124\n",
      "Epoch 5/12\n",
      "120/120 [==============================] - 75s 624ms/step - loss: 2.3984 - accuracy: 0.1124\n",
      "Epoch 6/12\n",
      "120/120 [==============================] - 74s 615ms/step - loss: 2.3825 - accuracy: 0.1124\n",
      "Epoch 7/12\n",
      "120/120 [==============================] - 73s 605ms/step - loss: 2.3671 - accuracy: 0.1124\n",
      "Epoch 8/12\n",
      "120/120 [==============================] - 76s 632ms/step - loss: 2.3529 - accuracy: 0.1124\n",
      "Epoch 9/12\n",
      "120/120 [==============================] - 73s 606ms/step - loss: 2.3388 - accuracy: 0.1124\n",
      "Epoch 10/12\n",
      "120/120 [==============================] - 70s 586ms/step - loss: 2.3254 - accuracy: 0.1124\n",
      "Epoch 11/12\n",
      "120/120 [==============================] - 70s 580ms/step - loss: 2.3130 - accuracy: 0.1124\n",
      "Epoch 12/12\n",
      "120/120 [==============================] - 71s 595ms/step - loss: 2.3014 - accuracy: 0.1125\n"
     ]
    },
    {
     "data": {
      "text/plain": [
       "<tensorflow.python.keras.callbacks.History at 0x28c4d7f08b0>"
      ]
     },
     "execution_count": 6,
     "metadata": {},
     "output_type": "execute_result"
    }
   ],
   "source": [
    "model = Model([inpx], layer7)\n",
    "model.compile(optimizer=keras.optimizers.Adadelta(),\n",
    "\t\t\tloss=keras.losses.categorical_crossentropy,\n",
    "\t\t\tmetrics=['accuracy'])\n",
    "\n",
    "model.fit(x_train, y_train, epochs=12, batch_size=500)\n"
   ]
  },
  {
   "cell_type": "code",
   "execution_count": 8,
   "id": "533a86cc",
   "metadata": {},
   "outputs": [
    {
     "name": "stdout",
     "output_type": "stream",
     "text": [
      "loss= 2.2920610904693604\n",
      "accuracy= 0.11349999904632568\n"
     ]
    }
   ],
   "source": [
    "score = model.evaluate(x_test, y_test, verbose=0)\n",
    "print('loss=', score[0])\n",
    "print('accuracy=', score[1])\n"
   ]
  },
  {
   "cell_type": "code",
   "execution_count": null,
   "id": "cb45e00f",
   "metadata": {},
   "outputs": [],
   "source": []
  }
 ],
 "metadata": {
  "kernelspec": {
   "display_name": "Python 3",
   "language": "python",
   "name": "python3"
  },
  "language_info": {
   "codemirror_mode": {
    "name": "ipython",
    "version": 3
   },
   "file_extension": ".py",
   "mimetype": "text/x-python",
   "name": "python",
   "nbconvert_exporter": "python",
   "pygments_lexer": "ipython3",
   "version": "3.8.8"
  }
 },
 "nbformat": 4,
 "nbformat_minor": 5
}
